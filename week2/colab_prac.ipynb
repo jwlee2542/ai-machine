{
  "nbformat": 4,
  "nbformat_minor": 0,
  "metadata": {
    "colab": {
      "provenance": [],
      "include_colab_link": true
    },
    "kernelspec": {
      "name": "python3",
      "display_name": "Python 3"
    },
    "language_info": {
      "name": "python"
    }
  },
  "cells": [
    {
      "cell_type": "markdown",
      "metadata": {
        "id": "view-in-github",
        "colab_type": "text"
      },
      "source": [
        "<a href=\"https://colab.research.google.com/github/jwlee2542/ai-machine/blob/main/week2/colab_prac.ipynb\" target=\"_parent\"><img src=\"https://colab.research.google.com/assets/colab-badge.svg\" alt=\"Open In Colab\"/></a>"
      ]
    },
    {
      "cell_type": "markdown",
      "source": [
        "## Week2 Colab practice\n",
        "\n",
        "Follow the instructions below\n",
        "\n",
        "  1) Mount google drive    \n",
        "  2) type the command below\n",
        "```\n",
        "!cd drive/MyDrive/\n",
        "!git clone https://github.com/stefmolin/Hands-On-Data-Analysis-with-Pandas-2nd-edition.git\n",
        "```\n"
      ],
      "metadata": {
        "id": "YlC8D9grHY59"
      }
    },
    {
      "cell_type": "code",
      "source": [],
      "metadata": {
        "id": "5qCSwuQF5TM4"
      },
      "execution_count": null,
      "outputs": []
    },
    {
      "cell_type": "markdown",
      "source": [
        "## Preparation codes for ch1"
      ],
      "metadata": {
        "id": "M3R1Z9YgIdUT"
      }
    },
    {
      "cell_type": "code",
      "source": [
        "import sys\n",
        "sys.path.append('/content/drive/MyDrive/Hands-On-Data-Analysis-with-Pandas-2nd-edition/visual-aids/')\n",
        "\n",
        "from visual_aids import stats_viz"
      ],
      "metadata": {
        "id": "OoiNZMfOHfgz"
      },
      "execution_count": null,
      "outputs": []
    },
    {
      "cell_type": "markdown",
      "source": [
        "## Save this notbook to your repository\n",
        "\n",
        "File -> Save a copy in a github"
      ],
      "metadata": {
        "id": "a8nCXFX4Iiy8"
      }
    },
    {
      "cell_type": "code",
      "source": [],
      "metadata": {
        "id": "GMHZ4Y_oIaM8"
      },
      "execution_count": null,
      "outputs": []
    }
  ]
}